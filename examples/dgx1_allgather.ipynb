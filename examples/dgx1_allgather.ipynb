{
 "cells": [
  {
   "cell_type": "markdown",
   "metadata": {},
   "source": [
    "Topologies are modeled in terms of the relative bandwidths of the links. In this version of the problem, we assume that all per-send latencies are uniform, which is mostly true over NVLinks."
   ]
  },
  {
   "cell_type": "code",
   "execution_count": 1,
   "metadata": {},
   "outputs": [
    {
     "name": "stdout",
     "output_type": "stream",
     "text": [
      "[[0, 2, 1, 1, 2, 0, 0, 0],\n",
      " [2, 0, 1, 2, 0, 1, 0, 0],\n",
      " [1, 1, 0, 2, 0, 0, 2, 0],\n",
      " [1, 2, 2, 0, 0, 0, 0, 1],\n",
      " [2, 0, 0, 0, 0, 2, 1, 1],\n",
      " [0, 1, 0, 0, 2, 0, 1, 2],\n",
      " [0, 0, 2, 0, 1, 1, 0, 2],\n",
      " [0, 0, 0, 1, 1, 2, 2, 0]]\n"
     ]
    }
   ],
   "source": [
    "from msccl.topologies import dgx1\n",
    "from pprint import pprint\n",
    "topology = dgx1()\n",
    "pprint(topology.links)"
   ]
  },
  {
   "cell_type": "markdown",
   "metadata": {},
   "source": [
    "The collective is the specification for where chunks start at and where they need to go. Here we instantiate allgather for this topology."
   ]
  },
  {
   "cell_type": "code",
   "execution_count": 2,
   "metadata": {},
   "outputs": [],
   "source": [
    "from msccl.collectives import allgather\n",
    "collective = allgather(topology.num_nodes())"
   ]
  },
  {
   "cell_type": "markdown",
   "metadata": {},
   "source": [
    "Here is the precondition. We can see that all ranks start with one chunk."
   ]
  },
  {
   "cell_type": "code",
   "execution_count": 3,
   "metadata": {},
   "outputs": [
    {
     "name": "stdout",
     "output_type": "stream",
     "text": [
      "[[1, 0, 0, 0, 0, 0, 0, 0],\n",
      " [0, 1, 0, 0, 0, 0, 0, 0],\n",
      " [0, 0, 1, 0, 0, 0, 0, 0],\n",
      " [0, 0, 0, 1, 0, 0, 0, 0],\n",
      " [0, 0, 0, 0, 1, 0, 0, 0],\n",
      " [0, 0, 0, 0, 0, 1, 0, 0],\n",
      " [0, 0, 0, 0, 0, 0, 1, 0],\n",
      " [0, 0, 0, 0, 0, 0, 0, 1]]\n"
     ]
    }
   ],
   "source": [
    "pprint([[1 if collective.precondition(rank, chunk) else 0 for chunk in range(collective.num_chunks)] for rank in range(collective.num_nodes)])"
   ]
  },
  {
   "cell_type": "markdown",
   "metadata": {},
   "source": [
    "Here is the postcondition. All ranks need to get all chunks."
   ]
  },
  {
   "cell_type": "code",
   "execution_count": 4,
   "metadata": {},
   "outputs": [
    {
     "name": "stdout",
     "output_type": "stream",
     "text": [
      "[[1, 1, 1, 1, 1, 1, 1, 1],\n",
      " [1, 1, 1, 1, 1, 1, 1, 1],\n",
      " [1, 1, 1, 1, 1, 1, 1, 1],\n",
      " [1, 1, 1, 1, 1, 1, 1, 1],\n",
      " [1, 1, 1, 1, 1, 1, 1, 1],\n",
      " [1, 1, 1, 1, 1, 1, 1, 1],\n",
      " [1, 1, 1, 1, 1, 1, 1, 1],\n",
      " [1, 1, 1, 1, 1, 1, 1, 1]]\n"
     ]
    }
   ],
   "source": [
    "pprint([[1 if collective.postcondition(rank, chunk) else 0 for chunk in range(collective.num_chunks)] for rank in range(collective.num_nodes)])"
   ]
  },
  {
   "cell_type": "markdown",
   "metadata": {},
   "source": [
    "Lets try to actually solve this for a specific number of steps. `msccl.strategies` offers entry points into the solver. We'll use one that just does a single solver call for now. The encoding itself lives in [path_encoding.py](../msccl/path_encoding.py). As expected, 1 step is not enough, because some ranks aren't directly connected."
   ]
  },
  {
   "cell_type": "code",
   "execution_count": 5,
   "metadata": {},
   "outputs": [
    {
     "name": "stdout",
     "output_type": "stream",
     "text": [
      "Solving instance steps=1... unsatisfiable. (0.2s)\n"
     ]
    }
   ],
   "source": [
    "from msccl.strategies import solve_instance\n",
    "from msccl.instance import Instance\n",
    "algo = solve_instance(topology, collective, Instance(steps=1), logging=True)"
   ]
  },
  {
   "cell_type": "markdown",
   "metadata": {},
   "source": [
    "But 2 steps is."
   ]
  },
  {
   "cell_type": "code",
   "execution_count": 6,
   "metadata": {},
   "outputs": [
    {
     "name": "stdout",
     "output_type": "stream",
     "text": [
      "Solving instance steps=2... synthesized! (0.3s)\n"
     ]
    }
   ],
   "source": [
    "algo = solve_instance(topology, collective, Instance(steps=2), logging=True)"
   ]
  },
  {
   "cell_type": "markdown",
   "metadata": {},
   "source": [
    "The algorithm is composed of the sends to perform in each global step in `(chunk, source, destination)` form. The `rounds` is how many multiples of the topology's available bandwidth is needed for that step."
   ]
  },
  {
   "cell_type": "code",
   "execution_count": 7,
   "metadata": {},
   "outputs": [
    {
     "name": "stdout",
     "output_type": "stream",
     "text": [
      "[Step(rounds=1, sends=[(0, 0, 1), (0, 0, 3), (0, 0, 4), (1, 1, 2), (1, 1, 3), (1, 1, 5), (2, 2, 1), (2, 2, 3), (2, 2, 6), (3, 3, 1), (3, 3, 2), (3, 3, 7), (4, 4, 0), (4, 4, 6), (4, 4, 7), (5, 5, 1), (5, 5, 7), (6, 6, 4), (6, 6, 5), (6, 6, 7), (7, 7, 3), (7, 7, 4)]),\n",
      " Step(rounds=1, sends=[(0, 3, 2), (0, 4, 5), (0, 4, 6), (0, 4, 7), (1, 2, 0), (1, 2, 6), (1, 3, 7), (1, 5, 4), (2, 1, 0), (2, 6, 4), (2, 6, 5), (2, 6, 7), (3, 1, 5), (3, 2, 6), (3, 3, 0), (3, 7, 4), (4, 0, 1), (4, 0, 2), (4, 0, 3), (4, 7, 5), (5, 1, 0), (5, 1, 2), (5, 1, 3), (5, 5, 4), (5, 5, 6), (6, 4, 0), (6, 5, 1), (6, 6, 2), (6, 7, 3), (7, 3, 1), (7, 3, 2), (7, 4, 0), (7, 7, 5), (7, 7, 6)])]\n"
     ]
    }
   ],
   "source": [
    "pprint(algo.steps)"
   ]
  },
  {
   "cell_type": "markdown",
   "metadata": {},
   "source": [
    "Neither of those instances considered dividing the chunks into smaller ones for more fine grained routing. That can be achieved by passing `chunks=N` to the `Instance`. The bandwidths in the topology are stated relative to the chunk size, so when the chunks parameter goes up, more steps may be needed. For example:"
   ]
  },
  {
   "cell_type": "code",
   "execution_count": 8,
   "metadata": {},
   "outputs": [
    {
     "name": "stdout",
     "output_type": "stream",
     "text": [
      "Solving instance steps=2,chunks=2... unsatisfiable. (0.4s)\n",
      "Solving instance steps=3,chunks=2... synthesized! (0.7s)\n"
     ]
    }
   ],
   "source": [
    "algo = solve_instance(topology, collective, Instance(steps=2, chunks=2), logging=True)\n",
    "algo = solve_instance(topology, collective, Instance(steps=3, chunks=2), logging=True)"
   ]
  },
  {
   "cell_type": "markdown",
   "metadata": {},
   "source": [
    "However, it turns out that 2 steps is enough *if we allow one step to take double the time*. The solver can be give these \"extra rounds\" of bandwidth to allocate to the steps with an `extra_rounds` parameter:"
   ]
  },
  {
   "cell_type": "code",
   "execution_count": 9,
   "metadata": {},
   "outputs": [
    {
     "name": "stdout",
     "output_type": "stream",
     "text": [
      "Solving instance steps=2,rounds=3,chunks=2... synthesized! (0.7s)\n"
     ]
    }
   ],
   "source": [
    "algo = solve_instance(topology, collective, Instance(steps=2, chunks=2, extra_rounds=1), logging=True)"
   ]
  },
  {
   "cell_type": "markdown",
   "metadata": {},
   "source": [
    "In an alpha+beta cost model, `steps` is essentially how many times the alpha cost is paid, while the multiple for beta is `size*rounds/chunks`, where `size` is the size of the input. We've automated searching over different tradeoffs between steps, rounds and chunks in a `solve_all_latency_bandwidth_tradeoffs` strategy:"
   ]
  },
  {
   "cell_type": "code",
   "execution_count": 10,
   "metadata": {},
   "outputs": [
    {
     "name": "stdout",
     "output_type": "stream",
     "text": [
      "Algorithms need at least 2 steps.\n",
      "Algorithms need at least 7/6 rounds per chunk.\n",
      "Solving instance steps=2... synthesized! (0.3s)\n",
      "Solving instance steps=2,rounds=3,chunks=2... synthesized! (0.6s)\n",
      "Solving instance steps=2,rounds=4,chunks=3... unsatisfiable. (0.8s)\n",
      "Solving instance steps=3,rounds=4,chunks=3... synthesized! (1.5s)\n",
      "Solving instance steps=2,rounds=5,chunks=4... unsatisfiable. (1.3s)\n",
      "Solving instance steps=3,rounds=5,chunks=4... synthesized! (6.8s)\n",
      "Solving instance steps=2,rounds=6,chunks=5... unsatisfiable. (1.8s)\n",
      "Solving instance steps=3,rounds=6,chunks=5... synthesized! (13.1s)\n",
      "Solving instance steps=2,rounds=7,chunks=6... unsatisfiable. (2.9s)\n",
      "Solving instance steps=3,rounds=7,chunks=6... synthesized! (124.1s)\n",
      "Bandwidth optimal algorithm found!\n"
     ]
    }
   ],
   "source": [
    "from msccl.strategies import solve_all_latency_bandwidth_tradeoffs\n",
    "algos = list(solve_all_latency_bandwidth_tradeoffs(topology, collective, logging=True))"
   ]
  },
  {
   "cell_type": "markdown",
   "metadata": {},
   "source": [
    "Two preprocessing steps are performed:\n",
    "- The minimum number of steps required is lower bound based on the maximum of the shortest paths for each chunk considering the topology.\n",
    "- A minimum number of rounds per chunk is lower bound using a kind of multi-commodity flow encoding in [rounds_bound.py](../msccl/rounds_bound.py).\n",
    "\n",
    "Then all relevant trade-offs are iterated until a bandwidth optimal algorithm is found (if the rounds per chunk lower bound happens to be exact).\n",
    "\n",
    "The synthesized algorithms contain many non-Pareto-optimal algorithms, which are dominated by some other algorithm for all input sizes. We can filter those out:"
   ]
  },
  {
   "cell_type": "code",
   "execution_count": 11,
   "metadata": {},
   "outputs": [],
   "source": [
    "from msccl.strategies import prune_pareto_optimal\n",
    "algos = prune_pareto_optimal(algos)"
   ]
  },
  {
   "cell_type": "markdown",
   "metadata": {},
   "source": [
    "Lets set up a function to analyze the performance of the remaining algorithms. Here we assume that alpha=1 and beta=1."
   ]
  },
  {
   "cell_type": "code",
   "execution_count": 13,
   "metadata": {},
   "outputs": [],
   "source": [
    "from fractions import Fraction\n",
    "def print_perf(size):\n",
    "    print(f'Input size is {size}')\n",
    "    for algo in algos:\n",
    "        print(f'\\n{algo.name}')\n",
    "        chunk_size = Fraction(1, algo.instance.chunks)\n",
    "        print(f'Chunk size:             1/chunks = {chunk_size} = {float(chunk_size)}')\n",
    "        bw_mult = algo.instance.rounds() * chunk_size\n",
    "        print(f'BW multiples:      rounds/chunks = {bw_mult} = {float(bw_mult)}')\n",
    "        time = algo.instance.steps + size * bw_mult\n",
    "        print(f'Time: steps + size*rounds/chunks = {time}')"
   ]
  },
  {
   "cell_type": "markdown",
   "metadata": {},
   "source": [
    "When the input size is large, the second algorithm is better:"
   ]
  },
  {
   "cell_type": "code",
   "execution_count": 14,
   "metadata": {},
   "outputs": [
    {
     "name": "stdout",
     "output_type": "stream",
     "text": [
      "Input size is 10.0\n",
      "\n",
      "Allgather(n=8)-DGX1-steps=2,rounds=3,chunks=2\n",
      "Chunk size:             1/chunks = 1/2 = 0.5\n",
      "BW multiples:      rounds/chunks = 3/2 = 1.5\n",
      "Time: steps + size*rounds/chunks = 17.0\n",
      "\n",
      "Allgather(n=8)-DGX1-steps=3,rounds=7,chunks=6\n",
      "Chunk size:             1/chunks = 1/6 = 0.16666666666666666\n",
      "BW multiples:      rounds/chunks = 7/6 = 1.1666666666666667\n",
      "Time: steps + size*rounds/chunks = 14.666666666666668\n"
     ]
    }
   ],
   "source": [
    "print_perf(10.0)"
   ]
  },
  {
   "cell_type": "markdown",
   "metadata": {},
   "source": [
    "For small inputs the first one is:"
   ]
  },
  {
   "cell_type": "code",
   "execution_count": 15,
   "metadata": {},
   "outputs": [
    {
     "name": "stdout",
     "output_type": "stream",
     "text": [
      "Input size is 0.1\n",
      "\n",
      "Allgather(n=8)-DGX1-steps=2,rounds=3,chunks=2\n",
      "Chunk size:             1/chunks = 1/2 = 0.5\n",
      "BW multiples:      rounds/chunks = 3/2 = 1.5\n",
      "Time: steps + size*rounds/chunks = 2.15\n",
      "\n",
      "Allgather(n=8)-DGX1-steps=3,rounds=7,chunks=6\n",
      "Chunk size:             1/chunks = 1/6 = 0.16666666666666666\n",
      "BW multiples:      rounds/chunks = 7/6 = 1.1666666666666667\n",
      "Time: steps + size*rounds/chunks = 3.1166666666666667\n"
     ]
    }
   ],
   "source": [
    "print_perf(0.1)"
   ]
  }
 ],
 "metadata": {
  "interpreter": {
   "hash": "31f2aee4e71d21fbe5cf8b01ff0e069b9275f58929596ceb00d14d90e3e16cd6"
  },
  "kernelspec": {
   "display_name": "Python 3.6.9 64-bit",
   "language": "python",
   "name": "python3"
  },
  "language_info": {
   "codemirror_mode": {
    "name": "ipython",
    "version": 3
   },
   "file_extension": ".py",
   "mimetype": "text/x-python",
   "name": "python",
   "nbconvert_exporter": "python",
   "pygments_lexer": "ipython3",
   "version": "3.8.10"
  },
  "orig_nbformat": 4
 },
 "nbformat": 4,
 "nbformat_minor": 2
}
